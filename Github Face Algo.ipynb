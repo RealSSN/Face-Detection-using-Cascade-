{
 "cells": [
  {
   "cell_type": "code",
   "execution_count": 1,
   "id": "20bc17df",
   "metadata": {
    "scrolled": true
   },
   "outputs": [],
   "source": [
    "import cv2\n",
    "import matplotlib.pyplot as plt \n",
    "import dlib\n",
    "from imutils import face_utils\n",
    "font = cv2.FONT_HERSHEY_SIMPLEX"
   ]
  },
  {
   "cell_type": "code",
   "execution_count": 2,
   "id": "bf898599",
   "metadata": {},
   "outputs": [],
   "source": [
    "cascPath = \"anaconda3/lib/python3.10/site-packages/cv2/data/haarcascade_frontalface_default.xml\"\n",
    "eyePath = \"anaconda3/lib/python3.10/site-packages/cv2/data/haarcascade_eye.xml\"\n",
    "smilePath = \"anaconda3/lib/python3.10/site-packages/cv2/data/haarcascade_smile.xml\""
   ]
  },
  {
   "cell_type": "code",
   "execution_count": 3,
   "id": "4e9c4eb3",
   "metadata": {},
   "outputs": [],
   "source": [
    "faceCascade = cv2.CascadeClassifier(cascPath) \n",
    "eyeCascade = cv2.CascadeClassifier(eyePath) \n",
    "smileCascade = cv2.CascadeClassifier(smilePath)"
   ]
  },
  {
   "cell_type": "code",
   "execution_count": 4,
   "id": "f937c32a",
   "metadata": {},
   "outputs": [],
   "source": [
    "def face(n):\n",
    "    img = cv2.imread(n, 0) \n",
    "    faces = faceCascade.detectMultiScale( img,\n",
    "    scaleFactor=1.1,\n",
    "    minNeighbors=5,\n",
    "    flags=cv2.CASCADE_SCALE_IMAGE )\n",
    "    for (x, y, w, h) in faces:\n",
    "        cv2.rectangle(img, (x, y), (x+w, y+h), (255, 255, 255), 3)\n",
    "    plt.figure(figsize=(12,8)) \n",
    "    plt.imshow(img, cmap='gray') \n",
    "    plt.show()\n",
    "    \n",
    "   "
   ]
  }
 ],
 "metadata": {
  "kernelspec": {
   "display_name": "Python 3 (ipykernel)",
   "language": "python",
   "name": "python3"
  },
  "language_info": {
   "codemirror_mode": {
    "name": "ipython",
    "version": 3
   },
   "file_extension": ".py",
   "mimetype": "text/x-python",
   "name": "python",
   "nbconvert_exporter": "python",
   "pygments_lexer": "ipython3",
   "version": "3.10.9"
  }
 },
 "nbformat": 4,
 "nbformat_minor": 5
}
